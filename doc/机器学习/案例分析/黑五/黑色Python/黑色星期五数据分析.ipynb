{
 "cells": [
  {
   "cell_type": "markdown",
   "metadata": {
    "collapsed": true
   },
   "source": [
    "# 数据来源  \n",
    "零售商店提供的数据，反映的是零售商店中进行的交易的样本。零售商希望能更好的了解对于不同商品，消费者不同购买行为，从而通过借助已知的其他变量来预测消费者的购买量。\n",
    "\n",
    "从另外一个角度，我们也可以预测消费者性别，年龄，甚至可以来预测商品的类别等。\n",
    "\n",
    "# 提出问题  \n",
    "- 1男性和女性的购买力差异\n",
    "- 2各个年龄段的购买力差异\n",
    "- 3婚姻状况是否对人们的购买力产生影响\n",
    "- 4各个职业的购买力差异\n",
    "- 5三个城市购物水平差异\n",
    "- 6在城市呆的年限是否影响人们的购买力\n",
    "- 7人们的购物水平差异，哪一类产品更受人们喜欢，以及最受欢迎的商品是哪些\n",
    "\n",
    "\n",
    "# 数据清洗\n",
    "\n",
    "## 数据信息  \n",
    "\n",
    "User_ID：用户编码  \n",
    "\n",
    "Product_ID：产品编码  \n",
    "\n",
    "Gender：性别 （M为男性，F为女性）  \n",
    "\n",
    "Age：年龄（0-17，18-25，26-35，36-45,46-50，51-55，55+ 7种） \n",
    "\n",
    "Occupation：职业（用数字代表具体职业，一共有20种职业） \n",
    "\n",
    "City_Category：城市分类（分为三类城市：ABC） \n",
    "\n",
    "Stay_In_Current_City_Years：在目前城市的居住的年数 （0，1,2，3,4+5种） \n",
    "\n",
    "Marital_Status：婚姻状况 （0代表未婚，1代表已婚） \n",
    "\n",
    "Product_Category_1：产品分类为1，不可为空 \n",
    "\n",
    "Product_Category_2：产品分类为2  \n",
    "\n",
    "Product_Category_3：产品分类为3  \n",
    "\n",
    "Purchase：购买金额 （单位为美元）  \n",
    "\n",
    "# 数据分析\n",
    "## 导入数据"
   ]
  },
  {
   "cell_type": "code",
   "execution_count": 28,
   "metadata": {
    "collapsed": true
   },
   "outputs": [],
   "source": [
    "import pandas as pd\n",
    "import matplotlib.pyplot as plt\n",
    "import numpy as np\n",
    "import seaborn as sns"
   ]
  },
  {
   "cell_type": "code",
   "execution_count": 3,
   "metadata": {},
   "outputs": [],
   "source": [
    "data = pd.read_csv('./BlackFriday.csv')"
   ]
  },
  {
   "cell_type": "code",
   "execution_count": 5,
   "metadata": {},
   "outputs": [
    {
     "name": "stdout",
     "output_type": "stream",
     "text": [
      "<class 'pandas.core.frame.DataFrame'>\n",
      "RangeIndex: 537577 entries, 0 to 537576\n",
      "Data columns (total 12 columns):\n",
      "User_ID                       537577 non-null int64\n",
      "Product_ID                    537577 non-null object\n",
      "Gender                        537577 non-null object\n",
      "Age                           537577 non-null object\n",
      "Occupation                    537577 non-null int64\n",
      "City_Category                 537577 non-null object\n",
      "Stay_In_Current_City_Years    537577 non-null object\n",
      "Marital_Status                537577 non-null int64\n",
      "Product_Category_1            537577 non-null int64\n",
      "Product_Category_2            370591 non-null float64\n",
      "Product_Category_3            164278 non-null float64\n",
      "Purchase                      537577 non-null int64\n",
      "dtypes: float64(2), int64(5), object(5)\n",
      "memory usage: 49.2+ MB\n"
     ]
    }
   ],
   "source": [
    "data.info()"
   ]
  },
  {
   "cell_type": "markdown",
   "metadata": {},
   "source": [
    "- 这是一个 537577*12的数据集，每一行有12列不同属性的数据\n",
    "- 我们可以选取前5列先观察一下数据集信息"
   ]
  },
  {
   "cell_type": "code",
   "execution_count": 214,
   "metadata": {},
   "outputs": [
    {
     "data": {
      "text/html": [
       "<div>\n",
       "<style>\n",
       "    .dataframe thead tr:only-child th {\n",
       "        text-align: right;\n",
       "    }\n",
       "\n",
       "    .dataframe thead th {\n",
       "        text-align: left;\n",
       "    }\n",
       "\n",
       "    .dataframe tbody tr th {\n",
       "        vertical-align: top;\n",
       "    }\n",
       "</style>\n",
       "<table border=\"1\" class=\"dataframe\">\n",
       "  <thead>\n",
       "    <tr style=\"text-align: right;\">\n",
       "      <th></th>\n",
       "      <th>User_ID</th>\n",
       "      <th>Product_ID</th>\n",
       "      <th>Gender</th>\n",
       "      <th>Age</th>\n",
       "      <th>Occupation</th>\n",
       "      <th>City_Category</th>\n",
       "      <th>Stay_In_Current_City_Years</th>\n",
       "      <th>Marital_Status</th>\n",
       "      <th>Product_Category_1</th>\n",
       "      <th>Product_Category_2</th>\n",
       "      <th>Product_Category_3</th>\n",
       "      <th>Purchase</th>\n",
       "      <th>combined_G_M</th>\n",
       "    </tr>\n",
       "  </thead>\n",
       "  <tbody>\n",
       "    <tr>\n",
       "      <th>0</th>\n",
       "      <td>1000001</td>\n",
       "      <td>P00069042</td>\n",
       "      <td>F</td>\n",
       "      <td>0-17</td>\n",
       "      <td>10</td>\n",
       "      <td>A</td>\n",
       "      <td>2</td>\n",
       "      <td>0</td>\n",
       "      <td>3</td>\n",
       "      <td>0.0</td>\n",
       "      <td>0.0</td>\n",
       "      <td>8370</td>\n",
       "      <td>F_0</td>\n",
       "    </tr>\n",
       "    <tr>\n",
       "      <th>1</th>\n",
       "      <td>1000001</td>\n",
       "      <td>P00248942</td>\n",
       "      <td>F</td>\n",
       "      <td>0-17</td>\n",
       "      <td>10</td>\n",
       "      <td>A</td>\n",
       "      <td>2</td>\n",
       "      <td>0</td>\n",
       "      <td>1</td>\n",
       "      <td>6.0</td>\n",
       "      <td>14.0</td>\n",
       "      <td>15200</td>\n",
       "      <td>F_0</td>\n",
       "    </tr>\n",
       "    <tr>\n",
       "      <th>2</th>\n",
       "      <td>1000001</td>\n",
       "      <td>P00087842</td>\n",
       "      <td>F</td>\n",
       "      <td>0-17</td>\n",
       "      <td>10</td>\n",
       "      <td>A</td>\n",
       "      <td>2</td>\n",
       "      <td>0</td>\n",
       "      <td>12</td>\n",
       "      <td>0.0</td>\n",
       "      <td>0.0</td>\n",
       "      <td>1422</td>\n",
       "      <td>F_0</td>\n",
       "    </tr>\n",
       "    <tr>\n",
       "      <th>3</th>\n",
       "      <td>1000001</td>\n",
       "      <td>P00085442</td>\n",
       "      <td>F</td>\n",
       "      <td>0-17</td>\n",
       "      <td>10</td>\n",
       "      <td>A</td>\n",
       "      <td>2</td>\n",
       "      <td>0</td>\n",
       "      <td>12</td>\n",
       "      <td>14.0</td>\n",
       "      <td>0.0</td>\n",
       "      <td>1057</td>\n",
       "      <td>F_0</td>\n",
       "    </tr>\n",
       "    <tr>\n",
       "      <th>4</th>\n",
       "      <td>1000002</td>\n",
       "      <td>P00285442</td>\n",
       "      <td>M</td>\n",
       "      <td>55+</td>\n",
       "      <td>16</td>\n",
       "      <td>C</td>\n",
       "      <td>4+</td>\n",
       "      <td>0</td>\n",
       "      <td>8</td>\n",
       "      <td>0.0</td>\n",
       "      <td>0.0</td>\n",
       "      <td>7969</td>\n",
       "      <td>M_0</td>\n",
       "    </tr>\n",
       "  </tbody>\n",
       "</table>\n",
       "</div>"
      ],
      "text/plain": [
       "   User_ID Product_ID Gender   Age  Occupation City_Category  \\\n",
       "0  1000001  P00069042      F  0-17          10             A   \n",
       "1  1000001  P00248942      F  0-17          10             A   \n",
       "2  1000001  P00087842      F  0-17          10             A   \n",
       "3  1000001  P00085442      F  0-17          10             A   \n",
       "4  1000002  P00285442      M   55+          16             C   \n",
       "\n",
       "  Stay_In_Current_City_Years  Marital_Status  Product_Category_1  \\\n",
       "0                          2               0                   3   \n",
       "1                          2               0                   1   \n",
       "2                          2               0                  12   \n",
       "3                          2               0                  12   \n",
       "4                         4+               0                   8   \n",
       "\n",
       "   Product_Category_2  Product_Category_3  Purchase combined_G_M  \n",
       "0                 0.0                 0.0      8370          F_0  \n",
       "1                 6.0                14.0     15200          F_0  \n",
       "2                 0.0                 0.0      1422          F_0  \n",
       "3                14.0                 0.0      1057          F_0  \n",
       "4                 0.0                 0.0      7969          M_0  "
      ]
     },
     "execution_count": 214,
     "metadata": {},
     "output_type": "execute_result"
    }
   ],
   "source": [
    "data.head()"
   ]
  },
  {
   "cell_type": "markdown",
   "metadata": {},
   "source": [
    "- 确认数据集是否存在缺失值"
   ]
  },
  {
   "cell_type": "code",
   "execution_count": 7,
   "metadata": {},
   "outputs": [
    {
     "data": {
      "text/plain": [
       "User_ID                       False\n",
       "Product_ID                    False\n",
       "Gender                        False\n",
       "Age                           False\n",
       "Occupation                    False\n",
       "City_Category                 False\n",
       "Stay_In_Current_City_Years    False\n",
       "Marital_Status                False\n",
       "Product_Category_1            False\n",
       "Product_Category_2             True\n",
       "Product_Category_3             True\n",
       "Purchase                      False\n",
       "dtype: bool"
      ]
     },
     "execution_count": 7,
     "metadata": {},
     "output_type": "execute_result"
    }
   ],
   "source": [
    "data.isnull().any()"
   ]
  },
  {
   "cell_type": "markdown",
   "metadata": {},
   "source": [
    "- 我们发现 Product_Category_2和Product_Category_3是存在缺失值的NAN的"
   ]
  },
  {
   "cell_type": "code",
   "execution_count": 9,
   "metadata": {},
   "outputs": [
    {
     "data": {
      "text/plain": [
       "0     NaN\n",
       "1     6.0\n",
       "2     NaN\n",
       "3    14.0\n",
       "4     NaN\n",
       "Name: Product_Category_2, dtype: float64"
      ]
     },
     "execution_count": 9,
     "metadata": {},
     "output_type": "execute_result"
    }
   ],
   "source": [
    "data['Product_Category_2'].head()"
   ]
  },
  {
   "cell_type": "code",
   "execution_count": 10,
   "metadata": {},
   "outputs": [
    {
     "data": {
      "text/plain": [
       "0     NaN\n",
       "1    14.0\n",
       "2     NaN\n",
       "3     NaN\n",
       "4     NaN\n",
       "Name: Product_Category_3, dtype: float64"
      ]
     },
     "execution_count": 10,
     "metadata": {},
     "output_type": "execute_result"
    }
   ],
   "source": [
    "data['Product_Category_3'].head()"
   ]
  },
  {
   "cell_type": "code",
   "execution_count": 14,
   "metadata": {},
   "outputs": [
    {
     "name": "stdout",
     "output_type": "stream",
     "text": [
      "Product_Category_2: [ nan   6.  14.   2.   8.  15.  16.  11.   5.   3.   4.  12.   9.  10.  17.\n",
      "  13.   7.  18.]\n"
     ]
    }
   ],
   "source": [
    "print('Product_Category_2:',data['Product_Category_2'].unique())"
   ]
  },
  {
   "cell_type": "code",
   "execution_count": 19,
   "metadata": {},
   "outputs": [
    {
     "name": "stdout",
     "output_type": "stream",
     "text": [
      "Product_Category_3: [  0.  14.  17.   5.   4.  16.  15.   8.   9.  13.   6.  12.   3.  18.  11.\n",
      "  10.]\n"
     ]
    }
   ],
   "source": [
    "print('Product_Category_3:',data['Product_Category_3'].unique())"
   ]
  },
  {
   "cell_type": "code",
   "execution_count": 20,
   "metadata": {},
   "outputs": [
    {
     "name": "stdout",
     "output_type": "stream",
     "text": [
      "Product_Category_1: [ 3  1 12  8  5  4  2  6 14 11 13 15  7 16 18 10 17  9]\n"
     ]
    }
   ],
   "source": [
    "print('Product_Category_1:',data['Product_Category_1'].unique())"
   ]
  },
  {
   "cell_type": "markdown",
   "metadata": {},
   "source": [
    "- 我们需要填补缺失值 用0填补缺失值"
   ]
  },
  {
   "cell_type": "code",
   "execution_count": 16,
   "metadata": {
    "collapsed": true
   },
   "outputs": [],
   "source": [
    "data.fillna(value=0,inplace=True)"
   ]
  },
  {
   "cell_type": "code",
   "execution_count": 24,
   "metadata": {},
   "outputs": [
    {
     "data": {
      "text/plain": [
       "User_ID                       False\n",
       "Product_ID                    False\n",
       "Gender                        False\n",
       "Age                           False\n",
       "Occupation                    False\n",
       "City_Category                 False\n",
       "Stay_In_Current_City_Years    False\n",
       "Marital_Status                False\n",
       "Product_Category_1            False\n",
       "Product_Category_2            False\n",
       "Product_Category_3            False\n",
       "Purchase                      False\n",
       "dtype: bool"
      ]
     },
     "execution_count": 24,
     "metadata": {},
     "output_type": "execute_result"
    }
   ],
   "source": [
    "data.isnull().any()"
   ]
  },
  {
   "cell_type": "markdown",
   "metadata": {},
   "source": [
    "- 我们重新观察数据集，发现该数据集没有缺失数据，我们可以接下去处理数据"
   ]
  },
  {
   "cell_type": "code",
   "execution_count": 225,
   "metadata": {},
   "outputs": [],
   "source": [
    "data['combined_ProductID_UserID']=data['User_ID'].map(str) + data['Product_ID'].map(str)\n",
    "#print(data['combined_ProductID_UserID'])\n",
    "# 一共有537577列"
   ]
  },
  {
   "cell_type": "code",
   "execution_count": 227,
   "metadata": {},
   "outputs": [
    {
     "data": {
      "text/plain": [
       "537577"
      ]
     },
     "execution_count": 227,
     "metadata": {},
     "output_type": "execute_result"
    }
   ],
   "source": [
    "data['new_combined_ProductID_UserID'] = data['combined_ProductID_UserID'].unique()\n",
    "data['new_combined_ProductID_UserID'].count()"
   ]
  },
  {
   "cell_type": "markdown",
   "metadata": {},
   "source": [
    "- 不存在重复数据，我们可以接着往下处理数据"
   ]
  },
  {
   "cell_type": "code",
   "execution_count": 21,
   "metadata": {},
   "outputs": [
    {
     "name": "stdout",
     "output_type": "stream",
     "text": [
      "Product_Category_1: [ 3  1 12  8  5  4  2  6 14 11 13 15  7 16 18 10 17  9]\n"
     ]
    }
   ],
   "source": [
    "print('Product_Category_1:',data['Product_Category_1'].unique())"
   ]
  },
  {
   "cell_type": "code",
   "execution_count": 22,
   "metadata": {},
   "outputs": [
    {
     "name": "stdout",
     "output_type": "stream",
     "text": [
      "Product_Category_2: [  0.   6.  14.   2.   8.  15.  16.  11.   5.   3.   4.  12.   9.  10.  17.\n",
      "  13.   7.  18.]\n"
     ]
    }
   ],
   "source": [
    "print('Product_Category_2:',data['Product_Category_2'].unique())"
   ]
  },
  {
   "cell_type": "code",
   "execution_count": 23,
   "metadata": {},
   "outputs": [
    {
     "name": "stdout",
     "output_type": "stream",
     "text": [
      "Product_Category_3: [  0.  14.  17.   5.   4.  16.  15.   8.   9.  13.   6.  12.   3.  18.  11.\n",
      "  10.]\n"
     ]
    }
   ],
   "source": [
    "print('Product_Category_3:',data['Product_Category_3'].unique())"
   ]
  },
  {
   "cell_type": "markdown",
   "metadata": {},
   "source": [
    "##  解决问题\n",
    "### 1男性和女性的购买力差异"
   ]
  },
  {
   "cell_type": "code",
   "execution_count": 26,
   "metadata": {},
   "outputs": [
    {
     "data": {
      "text/plain": [
       "0    F\n",
       "1    F\n",
       "2    F\n",
       "3    F\n",
       "4    M\n",
       "Name: Gender, dtype: object"
      ]
     },
     "execution_count": 26,
     "metadata": {},
     "output_type": "execute_result"
    }
   ],
   "source": [
    "data['Gender'].head()"
   ]
  },
  {
   "cell_type": "code",
   "execution_count": 42,
   "metadata": {},
   "outputs": [
    {
     "data": {
      "text/html": [
       "<div>\n",
       "<style>\n",
       "    .dataframe thead tr:only-child th {\n",
       "        text-align: right;\n",
       "    }\n",
       "\n",
       "    .dataframe thead th {\n",
       "        text-align: left;\n",
       "    }\n",
       "\n",
       "    .dataframe tbody tr th {\n",
       "        vertical-align: top;\n",
       "    }\n",
       "</style>\n",
       "<table border=\"1\" class=\"dataframe\">\n",
       "  <thead>\n",
       "    <tr style=\"text-align: right;\">\n",
       "      <th></th>\n",
       "      <th>User_ID</th>\n",
       "      <th>Product_ID</th>\n",
       "      <th>Age</th>\n",
       "      <th>Occupation</th>\n",
       "      <th>City_Category</th>\n",
       "      <th>Stay_In_Current_City_Years</th>\n",
       "      <th>Marital_Status</th>\n",
       "      <th>Product_Category_1</th>\n",
       "      <th>Product_Category_2</th>\n",
       "      <th>Product_Category_3</th>\n",
       "      <th>Purchase</th>\n",
       "    </tr>\n",
       "    <tr>\n",
       "      <th>Gender</th>\n",
       "      <th></th>\n",
       "      <th></th>\n",
       "      <th></th>\n",
       "      <th></th>\n",
       "      <th></th>\n",
       "      <th></th>\n",
       "      <th></th>\n",
       "      <th></th>\n",
       "      <th></th>\n",
       "      <th></th>\n",
       "      <th></th>\n",
       "    </tr>\n",
       "  </thead>\n",
       "  <tbody>\n",
       "    <tr>\n",
       "      <th>F</th>\n",
       "      <td>132197</td>\n",
       "      <td>132197</td>\n",
       "      <td>132197</td>\n",
       "      <td>132197</td>\n",
       "      <td>132197</td>\n",
       "      <td>132197</td>\n",
       "      <td>132197</td>\n",
       "      <td>132197</td>\n",
       "      <td>132197</td>\n",
       "      <td>132197</td>\n",
       "      <td>132197</td>\n",
       "    </tr>\n",
       "    <tr>\n",
       "      <th>M</th>\n",
       "      <td>405380</td>\n",
       "      <td>405380</td>\n",
       "      <td>405380</td>\n",
       "      <td>405380</td>\n",
       "      <td>405380</td>\n",
       "      <td>405380</td>\n",
       "      <td>405380</td>\n",
       "      <td>405380</td>\n",
       "      <td>405380</td>\n",
       "      <td>405380</td>\n",
       "      <td>405380</td>\n",
       "    </tr>\n",
       "  </tbody>\n",
       "</table>\n",
       "</div>"
      ],
      "text/plain": [
       "        User_ID  Product_ID     Age  Occupation  City_Category  \\\n",
       "Gender                                                           \n",
       "F        132197      132197  132197      132197         132197   \n",
       "M        405380      405380  405380      405380         405380   \n",
       "\n",
       "        Stay_In_Current_City_Years  Marital_Status  Product_Category_1  \\\n",
       "Gender                                                                   \n",
       "F                           132197          132197              132197   \n",
       "M                           405380          405380              405380   \n",
       "\n",
       "        Product_Category_2  Product_Category_3  Purchase  \n",
       "Gender                                                    \n",
       "F                   132197              132197    132197  \n",
       "M                   405380              405380    405380  "
      ]
     },
     "execution_count": 42,
     "metadata": {},
     "output_type": "execute_result"
    }
   ],
   "source": [
    "data.groupby('Gender').count()"
   ]
  },
  {
   "cell_type": "code",
   "execution_count": 43,
   "metadata": {},
   "outputs": [
    {
     "data": {
      "text/plain": [
       "Gender\n",
       "F    132197\n",
       "M    405380\n",
       "Name: User_ID, dtype: int64"
      ]
     },
     "execution_count": 43,
     "metadata": {},
     "output_type": "execute_result"
    }
   ],
   "source": [
    "data.groupby('Gender').count()['User_ID']"
   ]
  },
  {
   "cell_type": "code",
   "execution_count": 90,
   "metadata": {},
   "outputs": [
    {
     "data": {
      "image/png": "[encoded data removed]",
      "text/plain": [
       "<matplotlib.figure.Figure at 0x17626339940>"
      ]
     },
     "metadata": {},
     "output_type": "display_data"
    }
   ],
   "source": [
    "data.groupby('Gender').count()['User_ID'].plot(kind='bar')\n",
    "plt.show()"
   ]
  },
  {
   "cell_type": "code",
   "execution_count": 92,
   "metadata": {},
   "outputs": [
    {
     "data": {
      "image/png": "[encoded data removed]",
      "text/plain": [
       "<matplotlib.figure.Figure at 0x17626425240>"
      ]
     },
     "metadata": {},
     "output_type": "display_data"
    }
   ],
   "source": [
    "sns.countplot(data['Gender'])\n",
    "plt.show()"
   ]
  },
  {
   "cell_type": "code",
   "execution_count": 155,
   "metadata": {},
   "outputs": [
    {
     "data": {
      "image/png": "[encoded data removed]",
      "text/plain": [
       "<matplotlib.figure.Figure at 0x17627287390>"
      ]
     },
     "metadata": {},
     "output_type": "display_data"
    }
   ],
   "source": [
    "explode=(0.1,0)\n",
    "Gender = ['Female','Male']\n",
    "data.groupby('Gender').count()['User_ID'].plot(kind='pie',explode=explode,labels=Gender,autopct=\"%1.2f%%\")\n",
    "plt.axis('equal')\n",
    "#plt.tight_layout()\n",
    "plt.legend()\n",
    "plt.show()"
   ]
  },
  {
   "cell_type": "code",
   "execution_count": 39,
   "metadata": {},
   "outputs": [
    {
     "data": {
      "text/plain": [
       "Gender\n",
       "F    23959\n",
       "M    23961\n",
       "Name: Purchase, dtype: int64"
      ]
     },
     "execution_count": 39,
     "metadata": {},
     "output_type": "execute_result"
    }
   ],
   "source": [
    "data.groupby('Gender')['Purchase'].max()"
   ]
  },
  {
   "cell_type": "code",
   "execution_count": 33,
   "metadata": {},
   "outputs": [
    {
     "data": {
      "text/plain": [
       "Gender\n",
       "F    185\n",
       "M    185\n",
       "Name: Purchase, dtype: int64"
      ]
     },
     "execution_count": 33,
     "metadata": {},
     "output_type": "execute_result"
    }
   ],
   "source": [
    "data.groupby('Gender')['Purchase'].min()"
   ]
  },
  {
   "cell_type": "code",
   "execution_count": 34,
   "metadata": {},
   "outputs": [
    {
     "data": {
      "text/plain": [
       "Gender\n",
       "F    1164624021\n",
       "M    3853044357\n",
       "Name: Purchase, dtype: int64"
      ]
     },
     "execution_count": 34,
     "metadata": {},
     "output_type": "execute_result"
    }
   ],
   "source": [
    "data.groupby('Gender')['Purchase'].sum()"
   ]
  },
  {
   "cell_type": "code",
   "execution_count": 55,
   "metadata": {},
   "outputs": [
    {
     "data": {
      "image/png": "[encoded data removed]",
      "text/plain": [
       "<matplotlib.figure.Figure at 0x1762662cda0>"
      ]
     },
     "metadata": {},
     "output_type": "display_data"
    }
   ],
   "source": [
    "data.groupby('Gender')['Purchase'].sum().plot(kind='bar')\n",
    "plt.show()"
   ]
  },
  {
   "cell_type": "code",
   "execution_count": 157,
   "metadata": {},
   "outputs": [
    {
     "data": {
      "image/png": "[encoded data removed]",
      "text/plain": [
       "<matplotlib.figure.Figure at 0x176272efef0>"
      ]
     },
     "metadata": {},
     "output_type": "display_data"
    }
   ],
   "source": [
    "explode=(0.1,0)\n",
    "Gender = ['Female','Male']\n",
    "data.groupby('Gender')['Purchase'].sum().plot(kind='pie',labels=Gender,explode=explode,autopct=\"%1.2f%%\")\n",
    "plt.axis('equal')\n",
    "plt.legend()\n",
    "plt.show()"
   ]
  },
  {
   "cell_type": "markdown",
   "metadata": {},
   "source": [
    "- 女性消费者人数132197，占总比的24.59%，男性消费者人数405380，占总比的75.41%\n",
    "- 女性消费者的总消费金额为1164624021，占总比的23.21%，男性消费者的总消费金额为3853044357，占总比的76.79%\n",
    "- 女性消费者一次最多消费金额为23959，男性消费者一次最多消费金额23961\n",
    "- 女性消费者一次最少消费金额为185，男性消费者一次最少消费金额185\n",
    "- 本次消费中，男性消费为主力消费者，女性消费者消费能力远远不及男性消费者"
   ]
  },
  {
   "cell_type": "markdown",
   "metadata": {},
   "source": [
    "### 2各个年龄段的购买力差异"
   ]
  },
  {
   "cell_type": "code",
   "execution_count": 62,
   "metadata": {},
   "outputs": [
    {
     "data": {
      "text/plain": [
       "Age\n",
       "0-17      14707\n",
       "18-25     97634\n",
       "26-35    214690\n",
       "36-45    107499\n",
       "46-50     44526\n",
       "51-55     37618\n",
       "55+       20903\n",
       "Name: User_ID, dtype: int64"
      ]
     },
     "execution_count": 62,
     "metadata": {},
     "output_type": "execute_result"
    }
   ],
   "source": [
    "data.groupby('Age')['User_ID'].count()"
   ]
  },
  {
   "cell_type": "code",
   "execution_count": 88,
   "metadata": {},
   "outputs": [
    {
     "data": {
      "image/png": "[encoded data removed]",
      "text/plain": [
       "<matplotlib.figure.Figure at 0x1762662c828>"
      ]
     },
     "metadata": {},
     "output_type": "display_data"
    }
   ],
   "source": [
    "data.groupby('Age')['User_ID'].count().plot(kind='bar')\n",
    "plt.show()"
   ]
  },
  {
   "cell_type": "code",
   "execution_count": 89,
   "metadata": {},
   "outputs": [
    {
     "data": {
      "image/png": "[encoded data removed]",
      "text/plain": [
       "<matplotlib.figure.Figure at 0x1761fe79278>"
      ]
     },
     "metadata": {},
     "output_type": "display_data"
    }
   ],
   "source": [
    "sns.countplot(data['Age'])\n",
    "plt.show()"
   ]
  },
  {
   "cell_type": "code",
   "execution_count": 159,
   "metadata": {},
   "outputs": [
    {
     "data": {
      "image/png": "[encoded data removed]",
      "text/plain": [
       "<matplotlib.figure.Figure at 0x17627657a90>"
      ]
     },
     "metadata": {},
     "output_type": "display_data"
    }
   ],
   "source": [
    "data.groupby('Age')['User_ID'].count().plot(kind='pie',autopct=\"%1.2f%%\")\n",
    "plt.axis('equal')\n",
    "plt.show()"
   ]
  },
  {
   "cell_type": "code",
   "execution_count": 163,
   "metadata": {},
   "outputs": [
    {
     "data": {
      "text/plain": [
       "Age\n",
       "0-17      132659006\n",
       "18-25     901669280\n",
       "26-35    1999749106\n",
       "36-45    1010649565\n",
       "46-50     413418223\n",
       "51-55     361908356\n",
       "55+       197614842\n",
       "Name: Purchase, dtype: int64"
      ]
     },
     "execution_count": 163,
     "metadata": {},
     "output_type": "execute_result"
    }
   ],
   "source": [
    "data.groupby('Age')['Purchase'].sum()"
   ]
  },
  {
   "cell_type": "code",
   "execution_count": 166,
   "metadata": {},
   "outputs": [
    {
     "data": {
      "image/png": "[encoded data removed]",
      "text/plain": [
       "<matplotlib.figure.Figure at 0x176272a0be0>"
      ]
     },
     "metadata": {},
     "output_type": "display_data"
    }
   ],
   "source": [
    "data.groupby('Age')['Purchase'].sum().sort_index().plot(kind='bar')\n",
    "plt.show()"
   ]
  },
  {
   "cell_type": "code",
   "execution_count": 162,
   "metadata": {},
   "outputs": [
    {
     "data": {
      "image/png": "[encoded data removed]",
      "text/plain": [
       "<matplotlib.figure.Figure at 0x17626cdbba8>"
      ]
     },
     "metadata": {},
     "output_type": "display_data"
    }
   ],
   "source": [
    "data.groupby('Age')['Purchase'].sum().sort_values().plot(kind='bar')\n",
    "plt.show()"
   ]
  },
  {
   "cell_type": "code",
   "execution_count": 84,
   "metadata": {},
   "outputs": [
    {
     "data": {
      "image/png": "[encoded data removed]",
      "text/plain": [
       "<matplotlib.figure.Figure at 0x1762663f438>"
      ]
     },
     "metadata": {},
     "output_type": "display_data"
    }
   ],
   "source": [
    "data.groupby('Age')['Purchase'].sum().plot(kind='pie',autopct=\"%1.2f%%\")\n",
    "plt.axis('equal')\n",
    "plt.show()"
   ]
  },
  {
   "cell_type": "code",
   "execution_count": 67,
   "metadata": {},
   "outputs": [
    {
     "data": {
      "text/plain": [
       "Age\n",
       "0-17     9020.126878\n",
       "18-25    9235.197575\n",
       "26-35    9314.588970\n",
       "36-45    9401.478758\n",
       "46-50    9284.872277\n",
       "51-55    9620.616620\n",
       "55+      9453.898579\n",
       "Name: Purchase, dtype: float64"
      ]
     },
     "execution_count": 67,
     "metadata": {},
     "output_type": "execute_result"
    }
   ],
   "source": [
    "data.groupby('Age')['Purchase'].mean()"
   ]
  },
  {
   "cell_type": "code",
   "execution_count": 73,
   "metadata": {},
   "outputs": [
    {
     "data": {
      "image/png": "[encoded data removed]",
      "text/plain": [
       "<matplotlib.figure.Figure at 0x17626685c50>"
      ]
     },
     "metadata": {},
     "output_type": "display_data"
    }
   ],
   "source": [
    "data.groupby('Age')['Purchase'].mean().plot(kind='bar')\n",
    "plt.show()"
   ]
  },
  {
   "cell_type": "markdown",
   "metadata": {},
   "source": [
    "- 本次消费中，消费人数占比最大群体是26-35岁，人数14707，占总人数比例的39.94%，同时他们也是总消费金额比例中最大的群体占比，金额1999749106，占总金额比例39.85%\n",
    "- 消费人数占比最小群体是0-17岁，人数214690，占总人数比例的2.74%，同时他们也是总消费金额比例中最小的群体占比，金额132659006，占总金额比例2.64%\n",
    "- 但是在各群体的平均消费金额中，各群体的平均消费状况大体处于接近状态，都在9000左右"
   ]
  },
  {
   "cell_type": "code",
   "execution_count": 87,
   "metadata": {},
   "outputs": [
    {
     "data": {
      "image/png": "[encoded data removed]",
      "text/plain": [
       "<matplotlib.figure.Figure at 0x1762631a358>"
      ]
     },
     "metadata": {},
     "output_type": "display_data"
    }
   ],
   "source": [
    "sns.countplot(data['Age'],hue=data['Gender'])\n",
    "plt.show()"
   ]
  },
  {
   "cell_type": "markdown",
   "metadata": {},
   "source": [
    "- 我们将性别和年龄结合在一起看，也会发现，在占比中，男性消费者人数在各个年龄段中也是处于领先的位置"
   ]
  },
  {
   "cell_type": "markdown",
   "metadata": {},
   "source": [
    "### 3婚姻状况是否对人们的购买力产生影响"
   ]
  },
  {
   "cell_type": "code",
   "execution_count": 94,
   "metadata": {},
   "outputs": [
    {
     "data": {
      "text/plain": [
       "Marital_Status\n",
       "0    317817\n",
       "1    219760\n",
       "Name: User_ID, dtype: int64"
      ]
     },
     "execution_count": 94,
     "metadata": {},
     "output_type": "execute_result"
    }
   ],
   "source": [
    "data.groupby(['Marital_Status'])['User_ID'].count()"
   ]
  },
  {
   "cell_type": "code",
   "execution_count": 96,
   "metadata": {},
   "outputs": [
    {
     "data": {
      "image/png": "[encoded data removed]",
      "text/plain": [
       "<matplotlib.figure.Figure at 0x17626b1dba8>"
      ]
     },
     "metadata": {},
     "output_type": "display_data"
    }
   ],
   "source": [
    "data.groupby(['Marital_Status'])['User_ID'].count().plot(kind='bar')\n",
    "plt.show()"
   ]
  },
  {
   "cell_type": "code",
   "execution_count": 177,
   "metadata": {},
   "outputs": [
    {
     "data": {
      "image/png": "[encoded data removed]",
      "text/plain": [
       "<matplotlib.figure.Figure at 0x176278eab70>"
      ]
     },
     "metadata": {},
     "output_type": "display_data"
    }
   ],
   "source": [
    "explode =(0.1,0)\n",
    "data.groupby(['Marital_Status'])['User_ID'].count().plot(kind='pie',autopct=\"%1.2f%%\",explode=explode,labels=data['Marital_Status'].unique())\n",
    "plt.legend()\n",
    "plt.axis('equal')\n",
    "plt.show()"
   ]
  },
  {
   "cell_type": "code",
   "execution_count": 100,
   "metadata": {},
   "outputs": [
    {
     "data": {
      "text/plain": [
       "Marital_Status\n",
       "0    2966289500\n",
       "1    2051378878\n",
       "Name: Purchase, dtype: int64"
      ]
     },
     "execution_count": 100,
     "metadata": {},
     "output_type": "execute_result"
    }
   ],
   "source": [
    "data.groupby(['Marital_Status'])['Purchase'].sum()"
   ]
  },
  {
   "cell_type": "code",
   "execution_count": 178,
   "metadata": {},
   "outputs": [
    {
     "data": {
      "image/png": "[encoded data removed]",
      "text/plain": [
       "<matplotlib.figure.Figure at 0x176276a6860>"
      ]
     },
     "metadata": {},
     "output_type": "display_data"
    }
   ],
   "source": [
    "explode =(0.1,0)\n",
    "data.groupby(['Marital_Status'])['Purchase'].sum().plot(kind='pie',autopct=\"%1.2f%%\",explode=explode,labels=data['Marital_Status'].unique())\n",
    "plt.axis('equal')\n",
    "plt.legend()\n",
    "plt.show()"
   ]
  },
  {
   "cell_type": "code",
   "execution_count": 104,
   "metadata": {},
   "outputs": [
    {
     "data": {
      "text/plain": [
       "Marital_Status\n",
       "0    9333.325467\n",
       "1    9334.632681\n",
       "Name: Purchase, dtype: float64"
      ]
     },
     "execution_count": 104,
     "metadata": {},
     "output_type": "execute_result"
    }
   ],
   "source": [
    "data.groupby(['Marital_Status'])['Purchase'].mean()"
   ]
  },
  {
   "cell_type": "markdown",
   "metadata": {},
   "source": [
    "- 本次消费中，未婚群体人数317817，占总人数的59.12%，已婚群体人数为219760，占总人数比重的40.88%\n",
    "- 未婚人群的消费金额为2966289500，占总金额消费比重的59.12%，已婚人群的消费金额为2051378878，占总消费金额比重的40.88%\n",
    "- 在总体上看，未婚群体的消费人数和消费总金额都是超过已婚群体的，但是两个群体的平均消费金额数目非常接近，未婚为9333.325467，已婚为9334.632681"
   ]
  },
  {
   "cell_type": "code",
   "execution_count": 113,
   "metadata": {},
   "outputs": [
    {
     "name": "stdout",
     "output_type": "stream",
     "text": [
      "['F_0' 'M_0' 'M_1' 'F_1']\n"
     ]
    }
   ],
   "source": [
    "data['combined_G_M'] = data.apply(lambda x:'%s_%s' % (x['Gender'],x['Marital_Status']),axis=1)\n",
    "print(data['combined_G_M'].unique())"
   ]
  },
  {
   "cell_type": "code",
   "execution_count": 116,
   "metadata": {},
   "outputs": [
    {
     "data": {
      "image/png": "[encoded data removed]",
      "text/plain": [
       "<matplotlib.figure.Figure at 0x1762652ff28>"
      ]
     },
     "metadata": {},
     "output_type": "display_data"
    }
   ],
   "source": [
    "sns.countplot(data['Age'],hue=data['combined_G_M'])\n",
    "plt.show()"
   ]
  },
  {
   "cell_type": "markdown",
   "metadata": {},
   "source": [
    "- 将性别，年龄和婚姻状况结合在一起看，在0-17的数据中是不存在已婚人群的；另外26-35，36-45，18-25的群体中，男性未婚群体消费人数都是最多的，其次男性已婚群体消费能力也很显著。女性消费群体中未婚群体在18-25中占比相比之下略好于其他几个年龄段。女性总体消费情况在各个群体中，不管是已婚还是未婚，大部分都不在最前列。"
   ]
  },
  {
   "cell_type": "markdown",
   "metadata": {},
   "source": [
    "### 4各个职业的购买力差异"
   ]
  },
  {
   "cell_type": "code",
   "execution_count": 118,
   "metadata": {},
   "outputs": [
    {
     "data": {
      "text/plain": [
       "Occupation\n",
       "0     68120\n",
       "1     45971\n",
       "2     25845\n",
       "3     17366\n",
       "4     70862\n",
       "5     11985\n",
       "6     19822\n",
       "7     57806\n",
       "8      1524\n",
       "9      6153\n",
       "10    12623\n",
       "11    11338\n",
       "12    30423\n",
       "13     7548\n",
       "14    26712\n",
       "15    11812\n",
       "16    24790\n",
       "17    39090\n",
       "18     6525\n",
       "19     8352\n",
       "20    32910\n",
       "Name: User_ID, dtype: int64"
      ]
     },
     "execution_count": 118,
     "metadata": {},
     "output_type": "execute_result"
    }
   ],
   "source": [
    "data.groupby('Occupation')['User_ID'].count()"
   ]
  },
  {
   "cell_type": "code",
   "execution_count": 119,
   "metadata": {},
   "outputs": [
    {
     "data": {
      "image/png": "[encoded data removed]",
      "text/plain": [
       "<matplotlib.figure.Figure at 0x17620657160>"
      ]
     },
     "metadata": {},
     "output_type": "display_data"
    }
   ],
   "source": [
    "data.groupby('Occupation')['User_ID'].count().sort_values().plot(kind='bar')\n",
    "plt.show()"
   ]
  },
  {
   "cell_type": "code",
   "execution_count": 120,
   "metadata": {},
   "outputs": [
    {
     "data": {
      "image/png": "[encoded data removed]",
      "text/plain": [
       "<matplotlib.figure.Figure at 0x17626408780>"
      ]
     },
     "metadata": {},
     "output_type": "display_data"
    }
   ],
   "source": [
    "data['Occupation'].value_counts().sort_values().plot(kind='bar')\n",
    "plt.show()"
   ]
  },
  {
   "cell_type": "code",
   "execution_count": 121,
   "metadata": {},
   "outputs": [
    {
     "data": {
      "text/plain": [
       "Occupation\n",
       "0     625814811\n",
       "1     414552829\n",
       "2     233275393\n",
       "3     160428450\n",
       "4     657530393\n",
       "5     112525355\n",
       "6     185065697\n",
       "7     549282744\n",
       "8      14594599\n",
       "9      53619309\n",
       "10    114273954\n",
       "11    105437359\n",
       "12    300672105\n",
       "13     71135744\n",
       "14    255594745\n",
       "15    116540026\n",
       "16    234442330\n",
       "17    387240355\n",
       "18     60249706\n",
       "19     73115489\n",
       "20    292276985\n",
       "Name: Purchase, dtype: int64"
      ]
     },
     "execution_count": 121,
     "metadata": {},
     "output_type": "execute_result"
    }
   ],
   "source": [
    "data.groupby('Occupation')['Purchase'].sum()"
   ]
  },
  {
   "cell_type": "code",
   "execution_count": 124,
   "metadata": {},
   "outputs": [
    {
     "data": {
      "image/png": "[encoded data removed]",
      "text/plain": [
       "<matplotlib.figure.Figure at 0x176301d6e10>"
      ]
     },
     "metadata": {},
     "output_type": "display_data"
    }
   ],
   "source": [
    "data.groupby('Occupation')['Purchase'].sum().sort_values().plot(kind='bar')\n",
    "plt.show()"
   ]
  },
  {
   "cell_type": "code",
   "execution_count": 125,
   "metadata": {},
   "outputs": [
    {
     "data": {
      "text/plain": [
       "Occupation\n",
       "0     9186.946726\n",
       "1     9017.703095\n",
       "2     9025.938982\n",
       "3     9238.077277\n",
       "4     9279.026742\n",
       "5     9388.848978\n",
       "6     9336.378620\n",
       "7     9502.175276\n",
       "8     9576.508530\n",
       "9     8714.335934\n",
       "10    9052.836410\n",
       "11    9299.467190\n",
       "12    9883.052460\n",
       "13    9424.449391\n",
       "14    9568.536426\n",
       "15    9866.239925\n",
       "16    9457.133118\n",
       "17    9906.378997\n",
       "18    9233.671418\n",
       "19    8754.249162\n",
       "20    8881.099514\n",
       "Name: Purchase, dtype: float64"
      ]
     },
     "execution_count": 125,
     "metadata": {},
     "output_type": "execute_result"
    }
   ],
   "source": [
    "data.groupby('Occupation')['Purchase'].mean()"
   ]
  },
  {
   "cell_type": "code",
   "execution_count": 126,
   "metadata": {},
   "outputs": [
    {
     "data": {
      "image/png": "[encoded data removed]",
      "text/plain": [
       "<matplotlib.figure.Figure at 0x176268b5d30>"
      ]
     },
     "metadata": {},
     "output_type": "display_data"
    }
   ],
   "source": [
    "data.groupby('Occupation')['Purchase'].mean().sort_values().plot(kind='bar')\n",
    "plt.show()"
   ]
  },
  {
   "cell_type": "markdown",
   "metadata": {},
   "source": [
    "- 20个职业中，职业4的消费人数和消费总金额都是最高的，职业8的消费人数和消费总金额都是最少的\n",
    "- 在每个职业的平均消费金额中，职业17的平均消费能力最强的，职业9是最少的"
   ]
  },
  {
   "cell_type": "code",
   "execution_count": 129,
   "metadata": {},
   "outputs": [
    {
     "data": {
      "image/png": "[encoded data removed]",
      "text/plain": [
       "<matplotlib.figure.Figure at 0x176371e9a90>"
      ]
     },
     "metadata": {},
     "output_type": "display_data"
    }
   ],
   "source": [
    "sns.countplot(data['Occupation'],hue=data['Gender'])\n",
    "plt.show()"
   ]
  },
  {
   "cell_type": "markdown",
   "metadata": {},
   "source": [
    "- 将职业和性别结合在一起，在各个职业中，除了职业9之外，男性消费中人数占比都是超过女性消费者的"
   ]
  },
  {
   "cell_type": "markdown",
   "metadata": {},
   "source": [
    "###  5三个城市购物水平差异"
   ]
  },
  {
   "cell_type": "code",
   "execution_count": 130,
   "metadata": {},
   "outputs": [
    {
     "data": {
      "text/plain": [
       "City_Category\n",
       "A    144638\n",
       "B    226493\n",
       "C    166446\n",
       "Name: User_ID, dtype: int64"
      ]
     },
     "execution_count": 130,
     "metadata": {},
     "output_type": "execute_result"
    }
   ],
   "source": [
    "data.groupby('City_Category')['User_ID'].count()"
   ]
  },
  {
   "cell_type": "code",
   "execution_count": 170,
   "metadata": {
    "scrolled": true
   },
   "outputs": [
    {
     "data": {
      "image/png": "[encoded data removed]",
      "text/plain": [
       "<matplotlib.figure.Figure at 0x17626c0ccf8>"
      ]
     },
     "metadata": {},
     "output_type": "display_data"
    }
   ],
   "source": [
    "explode=(0,0.1,0)\n",
    "data.groupby('City_Category')['User_ID'].count().plot(kind='pie',autopct=\"%1.2f%%\",labels=data['City_Category'].unique(),explode=explode)\n",
    "plt.axis('equal')\n",
    "plt.legend()\n",
    "plt.show()"
   ]
  },
  {
   "cell_type": "code",
   "execution_count": 132,
   "metadata": {},
   "outputs": [
    {
     "data": {
      "text/plain": [
       "City_Category\n",
       "A    1295668797\n",
       "B    2083431612\n",
       "C    1638567969\n",
       "Name: Purchase, dtype: int64"
      ]
     },
     "execution_count": 132,
     "metadata": {},
     "output_type": "execute_result"
    }
   ],
   "source": [
    "data.groupby('City_Category')['Purchase'].sum()"
   ]
  },
  {
   "cell_type": "code",
   "execution_count": 171,
   "metadata": {},
   "outputs": [
    {
     "data": {
      "image/png": "[encoded data removed]",
      "text/plain": [
       "<matplotlib.figure.Figure at 0x176278d52b0>"
      ]
     },
     "metadata": {},
     "output_type": "display_data"
    }
   ],
   "source": [
    "explode=(0,0.1,0)\n",
    "data.groupby('City_Category')['Purchase'].sum().plot(kind='pie',autopct=\"%1.2f%%\",explode=explode,labels=data['City_Category'].unique())\n",
    "plt.axis('equal')\n",
    "plt.show()"
   ]
  },
  {
   "cell_type": "code",
   "execution_count": 134,
   "metadata": {},
   "outputs": [
    {
     "data": {
      "text/plain": [
       "City_Category\n",
       "A    8958.011014\n",
       "B    9198.657848\n",
       "C    9844.441855\n",
       "Name: Purchase, dtype: float64"
      ]
     },
     "execution_count": 134,
     "metadata": {},
     "output_type": "execute_result"
    }
   ],
   "source": [
    "data.groupby('City_Category')['Purchase'].mean()"
   ]
  },
  {
   "cell_type": "markdown",
   "metadata": {},
   "source": [
    "- 本次消费中，B市的消费人数和消费的总金额都是最高的，A市的消费人数和消费的总金额都是最少的\n",
    "- 同时，在消费者的平均消费金额中，最高的是C市，最低的是A市"
   ]
  },
  {
   "cell_type": "code",
   "execution_count": 137,
   "metadata": {},
   "outputs": [
    {
     "data": {
      "image/png": "[encoded data removed]",
      "text/plain": [
       "<matplotlib.figure.Figure at 0x1762667e358>"
      ]
     },
     "metadata": {},
     "output_type": "display_data"
    }
   ],
   "source": [
    "sns.countplot(data['City_Category'],hue=data['Gender'])\n",
    "plt.show()"
   ]
  },
  {
   "cell_type": "code",
   "execution_count": 173,
   "metadata": {},
   "outputs": [
    {
     "data": {
      "image/png": "[encoded data removed]",
      "text/plain": [
       "<matplotlib.figure.Figure at 0x17626dc76d8>"
      ]
     },
     "metadata": {},
     "output_type": "display_data"
    }
   ],
   "source": [
    "sns.countplot(data['City_Category'],hue=data['combined_G_M'])\n",
    "plt.show()"
   ]
  },
  {
   "cell_type": "code",
   "execution_count": 174,
   "metadata": {},
   "outputs": [
    {
     "data": {
      "image/png": "[encoded data removed]",
      "text/plain": [
       "<matplotlib.figure.Figure at 0x176278e2358>"
      ]
     },
     "metadata": {},
     "output_type": "display_data"
    }
   ],
   "source": [
    "sns.countplot(data['City_Category'],hue=data['Age'])\n",
    "plt.show()"
   ]
  },
  {
   "cell_type": "markdown",
   "metadata": {},
   "source": [
    "- 三座城市的最主力消费群体都是男性，同时男女性消费者在婚姻角度上，都是未婚者的消费能力更强一些\n",
    "- 三座城市中，26-35岁人群都是最强力的消费群体，其次都是36-45岁和18-25岁群体，0-17岁群体都是消费能力最少的群体"
   ]
  },
  {
   "cell_type": "markdown",
   "metadata": {},
   "source": [
    "### 6在城市呆的年限是否影响人们的购买力"
   ]
  },
  {
   "cell_type": "code",
   "execution_count": 180,
   "metadata": {},
   "outputs": [
    {
     "data": {
      "text/plain": [
       "array(['2', '4+', '3', '1', '0'], dtype=object)"
      ]
     },
     "execution_count": 180,
     "metadata": {},
     "output_type": "execute_result"
    }
   ],
   "source": [
    "data['Stay_In_Current_City_Years'].unique()"
   ]
  },
  {
   "cell_type": "code",
   "execution_count": 149,
   "metadata": {},
   "outputs": [
    {
     "data": {
      "text/plain": [
       "0     2\n",
       "1     2\n",
       "2     2\n",
       "3     2\n",
       "4    4+\n",
       "Name: Stay_In_Current_City_Years, dtype: object"
      ]
     },
     "execution_count": 149,
     "metadata": {},
     "output_type": "execute_result"
    }
   ],
   "source": [
    "data['Stay_In_Current_City_Years'].head()"
   ]
  },
  {
   "cell_type": "code",
   "execution_count": 142,
   "metadata": {},
   "outputs": [
    {
     "data": {
      "text/plain": [
       "Stay_In_Current_City_Years\n",
       "0      72725\n",
       "1     189192\n",
       "2      99459\n",
       "3      93312\n",
       "4+     82889\n",
       "Name: User_ID, dtype: int64"
      ]
     },
     "execution_count": 142,
     "metadata": {},
     "output_type": "execute_result"
    }
   ],
   "source": [
    "data.groupby('Stay_In_Current_City_Years')['User_ID'].count()"
   ]
  },
  {
   "cell_type": "code",
   "execution_count": 147,
   "metadata": {},
   "outputs": [
    {
     "data": {
      "image/png": "[encoded data removed]",
      "text/plain": [
       "<matplotlib.figure.Figure at 0x1761fe9f2b0>"
      ]
     },
     "metadata": {},
     "output_type": "display_data"
    }
   ],
   "source": [
    "data.groupby('Stay_In_Current_City_Years')['User_ID'].count().sort_values().plot(kind='bar')\n",
    "plt.show()"
   ]
  },
  {
   "cell_type": "code",
   "execution_count": 187,
   "metadata": {},
   "outputs": [
    {
     "data": {
      "image/png": "[encoded data removed]",
      "text/plain": [
       "<matplotlib.figure.Figure at 0x17627276400>"
      ]
     },
     "metadata": {},
     "output_type": "display_data"
    }
   ],
   "source": [
    "sns.countplot(data['Stay_In_Current_City_Years'])\n",
    "plt.show()"
   ]
  },
  {
   "cell_type": "code",
   "execution_count": 190,
   "metadata": {},
   "outputs": [
    {
     "data": {
      "image/png": "[encoded data removed]",
      "text/plain": [
       "<matplotlib.figure.Figure at 0x176277d55c0>"
      ]
     },
     "metadata": {},
     "output_type": "display_data"
    }
   ],
   "source": [
    "data.groupby('Stay_In_Current_City_Years')['Purchase'].count().sort_values().plot(kind='bar')\n",
    "plt.show()"
   ]
  },
  {
   "cell_type": "markdown",
   "metadata": {},
   "source": [
    "- 在一座城市居住时间一年的消费者的消费能力是最强的，但是短于一年的消费者则是消费能力最弱的群体"
   ]
  },
  {
   "cell_type": "markdown",
   "metadata": {},
   "source": [
    "### 7人们的购物水平差异，哪一类产品更受人们喜欢，以及最受欢迎的商品是哪些"
   ]
  },
  {
   "cell_type": "code",
   "execution_count": 207,
   "metadata": {},
   "outputs": [
    {
     "data": {
      "text/plain": [
       "Product_ID\n",
       "P00052842    23961\n",
       "P00117642    23960\n",
       "P00119342    23960\n",
       "P00086242    23959\n",
       "P00116142    23959\n",
       "P00161842    23958\n",
       "P00085342    23958\n",
       "P00159542    23953\n",
       "P00200642    23952\n",
       "P00273342    23947\n",
       "Name: Purchase, dtype: int64"
      ]
     },
     "execution_count": 207,
     "metadata": {},
     "output_type": "execute_result"
    }
   ],
   "source": [
    "data.groupby('Product_ID')['Purchase'].max().sort_values().nlargest(10)"
   ]
  },
  {
   "cell_type": "code",
   "execution_count": 210,
   "metadata": {},
   "outputs": [
    {
     "data": {
      "text/plain": [
       "Product_ID\n",
       "P00025442    27532426\n",
       "P00110742    26382569\n",
       "P00255842    24652442\n",
       "P00184942    24060871\n",
       "P00059442    23948299\n",
       "P00112142    23882624\n",
       "P00110942    23232538\n",
       "P00237542    23096487\n",
       "P00057642    22493690\n",
       "P00010742    21865042\n",
       "Name: Purchase, dtype: int64"
      ]
     },
     "execution_count": 210,
     "metadata": {},
     "output_type": "execute_result"
    }
   ],
   "source": [
    "data.groupby('Product_ID')['Purchase'].sum().sort_values().nlargest(10)"
   ]
  },
  {
   "cell_type": "code",
   "execution_count": 212,
   "metadata": {},
   "outputs": [
    {
     "data": {
      "image/png": "[encoded data removed]",
      "text/plain": [
       "<matplotlib.figure.Figure at 0x176278606a0>"
      ]
     },
     "metadata": {},
     "output_type": "display_data"
    }
   ],
   "source": [
    "data.groupby('Product_ID')['Purchase'].sum().sort_values().nlargest(10).plot('barh')\n",
    "plt.show()"
   ]
  },
  {
   "cell_type": "code",
   "execution_count": 205,
   "metadata": {},
   "outputs": [
    {
     "data": {
      "text/plain": [
       "Product_ID\n",
       "P00265242    1858\n",
       "P00110742    1591\n",
       "P00025442    1586\n",
       "P00112142    1539\n",
       "P00057642    1430\n",
       "P00184942    1424\n",
       "P00046742    1417\n",
       "P00058042    1396\n",
       "P00059442    1384\n",
       "P00145042    1384\n",
       "Name: Purchase, dtype: int64"
      ]
     },
     "execution_count": 205,
     "metadata": {},
     "output_type": "execute_result"
    }
   ],
   "source": [
    "data.groupby('Product_ID')['Purchase'].count().sort_values().nlargest(10)"
   ]
  },
  {
   "cell_type": "code",
   "execution_count": 213,
   "metadata": {},
   "outputs": [
    {
     "data": {
      "image/png": "[encoded data removed]",
      "text/plain": [
       "<matplotlib.figure.Figure at 0x1762781ccc0>"
      ]
     },
     "metadata": {},
     "output_type": "display_data"
    }
   ],
   "source": [
    "data.groupby('Product_ID')['Purchase'].count().sort_values().nlargest(10).plot('barh')\n",
    "plt.show()"
   ]
  },
  {
   "cell_type": "markdown",
   "metadata": {},
   "source": [
    "- 所有商品中，商品价格购买成交价最高的是P00052842为23961\n",
    "- 以上两个图表示的是购买总价最高的10个商品和购买数量最高的10个商品\n",
    "- 购买总价最高的商品是P00025442总的销售额为27532426，购买数量最高的商品是P00265242，一共卖出去了1858件"
   ]
  },
  {
   "cell_type": "markdown",
   "metadata": {},
   "source": [
    "#### 对商品类别的处理"
   ]
  },
  {
   "cell_type": "code",
   "execution_count": 233,
   "metadata": {},
   "outputs": [
    {
     "data": {
      "text/plain": [
       "Product_Category_1\n",
       "5     148592\n",
       "1     138353\n",
       "8     112132\n",
       "11     23960\n",
       "2      23499\n",
       "6      20164\n",
       "3      19849\n",
       "4      11567\n",
       "16      9697\n",
       "15      6203\n",
       "13      5440\n",
       "10      5032\n",
       "12      3875\n",
       "7       3668\n",
       "18      3075\n",
       "14      1500\n",
       "17       567\n",
       "9        404\n",
       "Name: Purchase, dtype: int64"
      ]
     },
     "execution_count": 233,
     "metadata": {},
     "output_type": "execute_result"
    }
   ],
   "source": [
    "data.groupby('Product_Category_1')['Purchase'].count().sort_values(ascending=False)"
   ]
  },
  {
   "cell_type": "code",
   "execution_count": 242,
   "metadata": {},
   "outputs": [
    {
     "data": {
      "image/png": "[encoded data removed]",
      "text/plain": [
       "<matplotlib.figure.Figure at 0x176363e2be0>"
      ]
     },
     "metadata": {},
     "output_type": "display_data"
    }
   ],
   "source": [
    "data.groupby('Product_Category_1')['Purchase'].count().sort_values(ascending=False).plot('bar')\n",
    "plt.show()"
   ]
  },
  {
   "cell_type": "code",
   "execution_count": 244,
   "metadata": {},
   "outputs": [
    {
     "data": {
      "text/plain": [
       "Product_Category_1\n",
       "1     1882666325\n",
       "5      926917497\n",
       "8      840693394\n",
       "6      319355286\n",
       "2      264497242\n",
       "3      200412211\n",
       "16     143168035\n",
       "11     112203088\n",
       "10      99029631\n",
       "15      91658147\n",
       "7       60059209\n",
       "4       26937957\n",
       "14      19718178\n",
       "18       9149071\n",
       "9        6277472\n",
       "17       5758702\n",
       "12       5235883\n",
       "13       3931050\n",
       "Name: Purchase, dtype: int64"
      ]
     },
     "execution_count": 244,
     "metadata": {},
     "output_type": "execute_result"
    }
   ],
   "source": [
    "data.groupby('Product_Category_1')['Purchase'].sum().sort_values(ascending=False)"
   ]
  },
  {
   "cell_type": "code",
   "execution_count": 245,
   "metadata": {},
   "outputs": [
    {
     "data": {
      "image/png": "[encoded data removed]",
      "text/plain": [
       "<matplotlib.figure.Figure at 0x1762744feb8>"
      ]
     },
     "metadata": {},
     "output_type": "display_data"
    }
   ],
   "source": [
    "data.groupby('Product_Category_1')['Purchase'].sum().sort_values(ascending=False).plot('bar')\n",
    "plt.show()"
   ]
  },
  {
   "cell_type": "markdown",
   "metadata": {},
   "source": [
    "- 商品总类别1中，本次消费中的所有商品都属于商品类别1，其中卖出去数量最多的商品种类为5，最少为9；销售额最高的商品种类为5，最少为13"
   ]
  },
  {
   "cell_type": "code",
   "execution_count": 237,
   "metadata": {},
   "outputs": [
    {
     "data": {
      "text/plain": [
       "Product_Category_2\n",
       "0.0     166986\n",
       "8.0      63058\n",
       "14.0     54158\n",
       "2.0      48481\n",
       "16.0     42602\n",
       "15.0     37317\n",
       "5.0      25874\n",
       "4.0      25225\n",
       "6.0      16251\n",
       "11.0     13945\n",
       "17.0     13130\n",
       "13.0     10369\n",
       "9.0       5591\n",
       "12.0      5419\n",
       "10.0      2991\n",
       "3.0       2835\n",
       "18.0      2730\n",
       "7.0        615\n",
       "Name: Purchase, dtype: int64"
      ]
     },
     "execution_count": 237,
     "metadata": {},
     "output_type": "execute_result"
    }
   ],
   "source": [
    "data.groupby('Product_Category_2')['Purchase'].count().sort_values(ascending=False)"
   ]
  },
  {
   "cell_type": "code",
   "execution_count": 246,
   "metadata": {},
   "outputs": [
    {
     "data": {
      "image/png": "[encoded data removed]",
      "text/plain": [
       "<matplotlib.figure.Figure at 0x17627aed9b0>"
      ]
     },
     "metadata": {},
     "output_type": "display_data"
    }
   ],
   "source": [
    "data.groupby('Product_Category_2')['Purchase'].count().sort_values(ascending=False).plot('bar')\n",
    "plt.show()"
   ]
  },
  {
   "cell_type": "code",
   "execution_count": 248,
   "metadata": {},
   "outputs": [
    {
     "data": {
      "text/plain": [
       "Product_Category_2\n",
       "0.0     1285099934\n",
       "2.0      660395610\n",
       "8.0      648112417\n",
       "16.0     438744196\n",
       "15.0     386556477\n",
       "14.0     384866069\n",
       "4.0      257757097\n",
       "5.0      233747130\n",
       "6.0      186896021\n",
       "11.0     124608092\n",
       "17.0     123639094\n",
       "13.0     100291709\n",
       "10.0      46827140\n",
       "9.0       40716981\n",
       "12.0      37763181\n",
       "3.0       31835725\n",
       "18.0      25582006\n",
       "7.0        4229499\n",
       "Name: Purchase, dtype: int64"
      ]
     },
     "execution_count": 248,
     "metadata": {},
     "output_type": "execute_result"
    }
   ],
   "source": [
    "data.groupby('Product_Category_2')['Purchase'].sum().sort_values(ascending=False)"
   ]
  },
  {
   "cell_type": "code",
   "execution_count": 250,
   "metadata": {},
   "outputs": [
    {
     "data": {
      "image/png": "[encoded data removed]",
      "text/plain": [
       "<matplotlib.figure.Figure at 0x17627c31208>"
      ]
     },
     "metadata": {},
     "output_type": "display_data"
    }
   ],
   "source": [
    "data.groupby('Product_Category_2')['Purchase'].sum().sort_values(ascending=False).plot('bar')\n",
    "plt.show()"
   ]
  },
  {
   "cell_type": "markdown",
   "metadata": {},
   "source": [
    "- 因为商品总类别2中存在缺失值，我们用0填补缺失值，重新观察数据，在商品类别2中，商品销售数量最多的是商品类别8，最少的是商品类别7；商品销售额最高的是商品类别2，最少的是商品类别7"
   ]
  },
  {
   "cell_type": "code",
   "execution_count": 232,
   "metadata": {},
   "outputs": [
    {
     "data": {
      "text/plain": [
       "Product_Category_3\n",
       "0.0     373299\n",
       "16.0     32148\n",
       "15.0     27611\n",
       "14.0     18121\n",
       "17.0     16449\n",
       "5.0      16380\n",
       "8.0      12384\n",
       "9.0      11414\n",
       "12.0      9094\n",
       "13.0      5385\n",
       "6.0       4818\n",
       "18.0      4563\n",
       "4.0       1840\n",
       "11.0      1773\n",
       "10.0      1698\n",
       "3.0        600\n",
       "Name: Purchase, dtype: int64"
      ]
     },
     "execution_count": 232,
     "metadata": {},
     "output_type": "execute_result"
    }
   ],
   "source": [
    "data.groupby('Product_Category_3')['Purchase'].count().sort_values(ascending=False)"
   ]
  },
  {
   "cell_type": "code",
   "execution_count": 240,
   "metadata": {},
   "outputs": [
    {
     "data": {
      "image/png": "[encoded data removed]",
      "text/plain": [
       "<matplotlib.figure.Figure at 0x1762798dc88>"
      ]
     },
     "metadata": {},
     "output_type": "display_data"
    }
   ],
   "source": [
    "data.groupby('Product_Category_3')['Purchase'].count().sort_values(ascending=False).plot('bar')\n",
    "plt.show()"
   ]
  },
  {
   "cell_type": "code",
   "execution_count": 251,
   "metadata": {},
   "outputs": [
    {
     "data": {
      "text/plain": [
       "Product_Category_3\n",
       "0.0     3102022343\n",
       "16.0     385213413\n",
       "15.0     340670945\n",
       "5.0      198662402\n",
       "17.0     193760503\n",
       "14.0     182187903\n",
       "8.0      161357998\n",
       "9.0      119043392\n",
       "12.0      79288332\n",
       "13.0      70990467\n",
       "6.0       63548518\n",
       "18.0      50118090\n",
       "10.0      22962030\n",
       "11.0      21475687\n",
       "4.0       17992055\n",
       "3.0        8374300\n",
       "Name: Purchase, dtype: int64"
      ]
     },
     "execution_count": 251,
     "metadata": {},
     "output_type": "execute_result"
    }
   ],
   "source": [
    "data.groupby('Product_Category_3')['Purchase'].sum().sort_values(ascending=False)"
   ]
  },
  {
   "cell_type": "code",
   "execution_count": 252,
   "metadata": {},
   "outputs": [
    {
     "data": {
      "image/png": "[encoded data removed]",
      "text/plain": [
       "<matplotlib.figure.Figure at 0x17627cc2470>"
      ]
     },
     "metadata": {},
     "output_type": "display_data"
    }
   ],
   "source": [
    "data.groupby('Product_Category_3')['Purchase'].sum().sort_values(ascending=False).plot('bar')\n",
    "plt.show()"
   ]
  },
  {
   "cell_type": "markdown",
   "metadata": {},
   "source": [
    "- 因为商品总类别3中存在缺失值，我们用0填补缺失值，重新观察数据，在商品类别3中，商品销售数量最多的是商品类别16，最少的是商品类别3；商品销售额最高的是商品类别16，最少的是商品类别3"
   ]
  },
  {
   "cell_type": "markdown",
   "metadata": {},
   "source": [
    "# 总结\n",
    "## 性别\n",
    "- 女性消费者人数132197，占总比的24.59%，男性消费者人数405380，占总比的75.41%\n",
    "- 女性消费者的总消费金额为1164624021，占总比的23.21%，男性消费者的总消费金额为3853044357，占总比的76.79%\n",
    "- 女性消费者一次最多消费金额为23959，男性消费者一次最多消费金额23961\n",
    "- 女性消费者一次最少消费金额为185，男性消费者一次最少消费金额185\n",
    "- 本次消费中，男性消费为主力消费者，女性消费者消费能力远远不及男性消费者\n",
    "- 男性消费者的消费金额是高于女性消费者的。商家应该深入女性消费者群体中，从消费者的收入和支出角度出发，调查女性消费者心理活动以及她们偏爱的产品，刺激女性消费。\n",
    "## 年龄\n",
    "- 消费人数占比最大群体是26-35岁，人数14707，占总人数比例的39.94%，同时他们也是总消费金额比例中最大的群体占比，金额1999749106，占总金额比例39.85%\n",
    "- 消费人数占比最小群体是0-17岁，人数214690，占总人数比例的2.74%，同时他们也是总消费金额比例中最小的群体占比，金额132659006，占总金额比例2.64%\n",
    "- 但是在各群体的平均消费金额中，各群体的平均消费状况大体处于接近状态，都在9000左右\n",
    "- 26-35的年龄段购买力最强 占总的消费群体的40% 0-17的年龄段购买力最弱；26-53年龄段消费能力最强，我们要考虑是人们的收入和消费欲望。\n",
    "## 婚姻\n",
    "- 未婚群体人数317817，占总人数的59.12%，已婚群体人数为219760，占总人数比重的40.88%\n",
    "- 未婚人群的消费金额为2966289500，占总金额消费比重的59.12%，已婚人群的消费金额为2051378878，占总消费金额比重的40.88%\n",
    "- 在总体上看，未婚群体的消费人数和消费总金额都是超过已婚群体的，但是两个群体的平均消费金额数目非常接近，未婚为9333.325467，已婚为9334.632681\n",
    "- 未婚的购物能力最强。我们要考虑是不是因为结婚之后，人们有了储蓄存钱的习惯，购买欲下降；在未婚的情况下，人们的购买欲是不是会更强一些。考虑开拓市场的时候，是不是可以加强家庭用品方面的宣传和产品投入，来刺激已婚人群的购买欲望。\n",
    "## 职业\n",
    "- 20个职业中，职业4的消费人数和消费总金额都是最高的，职业8的消费人数和消费总金额都是最少的\n",
    "- 在每个职业的平均消费金额中，职业17的平均消费能力最强的，职业9是最少的\n",
    "- 整体职业4的购买力最强，职业8的购买力最弱；我们可以分析职业4的特点，为什么从事职业4的人购买力是最强的，是因为收入最高，还是因为职业偏好。\n",
    "## 城市\n",
    "- 三座城市的最主力消费群体都是男性，同时男女性消费者在婚姻角度上，都是未婚者的消费能力更强一些\n",
    "- 三座城市中，26-35岁人群都是最强力的消费群体，其次都是36-45岁和18-25岁群体，0-17岁群体都是消费能力最少的群体\n",
    "## 城市居住时间\n",
    "- 在一座城市居住时间一年的消费者的消费能力是最强的，但是短于一年的消费者则是消费能力最弱的群体\n",
    "## 商品情况\n",
    "- 所有商品中，商品价格购买成交价最高的是P00052842为23961\n",
    "- 以上两个图表示的是购买总价最高的10个商品和购买数量最高的10个商品\n",
    "- 购买总价最高的商品是P00025442总的销售额为27532426，购买数量最高的商品是P00265242，一共卖出去了1858件\n",
    "- 商品总类别1中，本次消费中的所有商品都属于商品类别1，其中卖出去数量最多的商品种类为5，最少为9；销售额最高的商品种类为5，最少为13\n",
    "- 因为商品总类别2中存在缺失值，我们用0填补缺失值，重新观察数据，在商品类别2中，商品销售数量最多的是商品类别8，最少的是商品类别7；商品销售额最高的是商品类别2，最少的是商品类别7\n",
    "- 因为商品总类别3中存在缺失值，我们用0填补缺失值，重新观察数据，在商品类别3中，商品销售数量最多的是商品类别16，最少的是商品类别3；商品销售额最高的是商品类别16，最少的是商品类别3\n",
    "- 我们可以发现，购买次数和购买金额最多的并不是同一件产品，我们应该分析产品需求的价格和数量的关系；有些产品虽然购买的人多，但是单价不高，所以导致销售额不是最高，有些产品单价高，虽然销售额高，但是购买人数不是最多的。我们应该从中多挖掘各个产品的特点，为下一次销售制定更好的销售方针。"
   ]
  }
 ],
 "metadata": {
  "kernelspec": {
   "display_name": "Python 3",
   "language": "python",
   "name": "python3"
  },
  "language_info": {
   "codemirror_mode": {
    "name": "ipython",
    "version": 3
   },
   "file_extension": ".py",
   "mimetype": "text/x-python",
   "name": "python",
   "nbconvert_exporter": "python",
   "pygments_lexer": "ipython3",
   "version": "3.6.3"
  }
 },
 "nbformat": 4,
 "nbformat_minor": 2
}
